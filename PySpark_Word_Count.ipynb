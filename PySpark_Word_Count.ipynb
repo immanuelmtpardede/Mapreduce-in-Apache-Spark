{
  "nbformat": 4,
  "nbformat_minor": 0,
  "metadata": {
    "colab": {
      "provenance": [],
      "mount_file_id": "1PIqv7Mh8EtdxP-QVrB4yWsF28cWpm-nW",
      "authorship_tag": "ABX9TyOmPLGSFG1xYvfX8iczsdRx",
      "include_colab_link": true
    },
    "kernelspec": {
      "name": "python3",
      "display_name": "Python 3"
    },
    "language_info": {
      "name": "python"
    }
  },
  "cells": [
    {
      "cell_type": "markdown",
      "metadata": {
        "id": "view-in-github",
        "colab_type": "text"
      },
      "source": [
        "<a href=\"https://colab.research.google.com/github/immanuelmtpardede/Mapreduce-in-Apache-Spark/blob/main/PySpark_Word_Count.ipynb\" target=\"_parent\"><img src=\"https://colab.research.google.com/assets/colab-badge.svg\" alt=\"Open In Colab\"/></a>"
      ]
    },
    {
      "cell_type": "code",
      "execution_count": 3,
      "metadata": {
        "colab": {
          "base_uri": "https://localhost:8080/"
        },
        "id": "DRhwqyxg9xx3",
        "outputId": "aea75629-8dc6-4a8c-c3ce-99d7fa740073"
      },
      "outputs": [
        {
          "output_type": "stream",
          "name": "stdout",
          "text": [
            "Looking in indexes: https://pypi.org/simple, https://us-python.pkg.dev/colab-wheels/public/simple/\n",
            "Collecting pyspark\n",
            "  Downloading pyspark-3.3.2.tar.gz (281.4 MB)\n",
            "\u001b[2K     \u001b[90m━━━━━━━━━━━━━━━━━━━━━━━━━━━━━━━━━━━━━━━\u001b[0m \u001b[32m281.4/281.4 MB\u001b[0m \u001b[31m5.3 MB/s\u001b[0m eta \u001b[36m0:00:00\u001b[0m\n",
            "\u001b[?25h  Preparing metadata (setup.py) ... \u001b[?25l\u001b[?25hdone\n",
            "Collecting py4j\n",
            "  Downloading py4j-0.10.9.7-py2.py3-none-any.whl (200 kB)\n",
            "\u001b[2K     \u001b[90m━━━━━━━━━━━━━━━━━━━━━━━━━━━━━━━━━━━━━━\u001b[0m \u001b[32m200.5/200.5 KB\u001b[0m \u001b[31m29.1 MB/s\u001b[0m eta \u001b[36m0:00:00\u001b[0m\n",
            "\u001b[?25h  Downloading py4j-0.10.9.5-py2.py3-none-any.whl (199 kB)\n",
            "\u001b[2K     \u001b[90m━━━━━━━━━━━━━━━━━━━━━━━━━━━━━━━━━━━━━━\u001b[0m \u001b[32m199.7/199.7 KB\u001b[0m \u001b[31m23.3 MB/s\u001b[0m eta \u001b[36m0:00:00\u001b[0m\n",
            "\u001b[?25hBuilding wheels for collected packages: pyspark\n",
            "  Building wheel for pyspark (setup.py) ... \u001b[?25l\u001b[?25hdone\n",
            "  Created wheel for pyspark: filename=pyspark-3.3.2-py2.py3-none-any.whl size=281824025 sha256=985aa7a03b93fbe9a52938b55b14321f82681dd441790006c92a4f5df17a4061\n",
            "  Stored in directory: /root/.cache/pip/wheels/b1/59/a0/a1a0624b5e865fd389919c1a10f53aec9b12195d6747710baf\n",
            "Successfully built pyspark\n",
            "Installing collected packages: py4j, pyspark\n",
            "Successfully installed py4j-0.10.9.5 pyspark-3.3.2\n"
          ]
        }
      ],
      "source": [
        "!pip install pyspark py4j"
      ]
    },
    {
      "cell_type": "code",
      "source": [
        "!pip install findspark"
      ],
      "metadata": {
        "colab": {
          "base_uri": "https://localhost:8080/"
        },
        "id": "5gdsspT3_KLq",
        "outputId": "b2a890bf-354c-4110-ea0c-18764730fdc4"
      },
      "execution_count": 5,
      "outputs": [
        {
          "output_type": "stream",
          "name": "stdout",
          "text": [
            "Looking in indexes: https://pypi.org/simple, https://us-python.pkg.dev/colab-wheels/public/simple/\n",
            "Collecting findspark\n",
            "  Downloading findspark-2.0.1-py2.py3-none-any.whl (4.4 kB)\n",
            "Installing collected packages: findspark\n",
            "Successfully installed findspark-2.0.1\n"
          ]
        }
      ]
    },
    {
      "cell_type": "code",
      "source": [
        "import findspark\n",
        "findspark.init()"
      ],
      "metadata": {
        "id": "nIuhNbsz-y0n"
      },
      "execution_count": 6,
      "outputs": []
    },
    {
      "cell_type": "code",
      "source": [
        "from pyspark.sql import SparkSession\n",
        "from pyspark.conf import SparkConf"
      ],
      "metadata": {
        "id": "kjesqLBb_PLa"
      },
      "execution_count": 7,
      "outputs": []
    },
    {
      "cell_type": "code",
      "source": [
        "spark=SparkSession.builder\\\n",
        "    .master(\"local[*]\")\\\n",
        "    .appName(\"WordCount\")\\\n",
        "    .getOrCreate()"
      ],
      "metadata": {
        "id": "re8U-NCG_hpn"
      },
      "execution_count": 8,
      "outputs": []
    },
    {
      "cell_type": "code",
      "source": [
        "sc=spark.sparkContext"
      ],
      "metadata": {
        "id": "GhQ5CMjkAxMy"
      },
      "execution_count": 9,
      "outputs": []
    },
    {
      "cell_type": "code",
      "source": [
        "veri_dosyasi=\"/content/drive/MyDrive/romeojuliet.txt\""
      ],
      "metadata": {
        "id": "unyINDlEA5up"
      },
      "execution_count": 10,
      "outputs": []
    },
    {
      "cell_type": "code",
      "source": [
        "shakespeare_rdd=sc.textFile(veri_dosyasi)"
      ],
      "metadata": {
        "id": "vzfN3_FPCBet"
      },
      "execution_count": 11,
      "outputs": []
    },
    {
      "cell_type": "code",
      "source": [
        "shakespeare_rdd.take(100)"
      ],
      "metadata": {
        "colab": {
          "base_uri": "https://localhost:8080/"
        },
        "id": "118HcVICCE3w",
        "outputId": "d526b559-0d98-46c4-c9bd-93d2d1d8ce74"
      },
      "execution_count": 12,
      "outputs": [
        {
          "output_type": "execute_result",
          "data": {
            "text/plain": [
              "['',\n",
              " \"                    WILLIAM SHAKESPEARE'S\",\n",
              " '',\n",
              " '                       ROMEO & JULIET',\n",
              " '',\n",
              " '   ADAPTED FOR THE SCREEN BY CRAIG PEARCE AND BAZ LUHRMANN',\n",
              " '',\n",
              " '',\n",
              " '',\n",
              " '',\n",
              " '',\n",
              " '',\n",
              " '',\n",
              " '',\n",
              " '',\n",
              " '',\n",
              " '',\n",
              " '',\n",
              " '',\n",
              " '',\n",
              " '',\n",
              " '',\n",
              " '',\n",
              " '',\n",
              " '',\n",
              " '',\n",
              " '',\n",
              " '',\n",
              " '',\n",
              " '',\n",
              " '',\n",
              " '',\n",
              " '                                       FINAL SHOOTING SCRIPT',\n",
              " '',\n",
              " '                                             October 6, 1995',\n",
              " '',\n",
              " '',\n",
              " '',\n",
              " '',\n",
              " 'EXT.  HIGHWAY.  AFTERNOON.',\n",
              " '',\n",
              " 'A ribbon of freeway stretching into a blue and pink late',\n",
              " 'afternoon sky. A huge dark sedan, windows tinted gold,',\n",
              " 'headlights blazing, powers directly for us.',\n",
              " '',\n",
              " 'CUT TO: A heavy, low-slung, pickup truck traveling toward',\n",
              " 'the sedan.',\n",
              " '',\n",
              " 'WIDE SHOT: Sky, freeway, the cars closing.',\n",
              " '',\n",
              " 'TIGHT ON: The sedan.',\n",
              " '',\n",
              " 'TIGHT ON: The pickup.',\n",
              " '',\n",
              " 'Like thunderous, jousting opponents, the cars pass in a',\n",
              " 'deafening cacophony of noise.',\n",
              " '',\n",
              " 'INT.  TRUCK.  AFTERNOON.',\n",
              " '',\n",
              " 'TIGHT ON: The fat face of GREGORY, yelling at the',\n",
              " 'disappearing sedan.',\n",
              " '',\n",
              " '                         GREGORY',\n",
              " '            A dog of the house of Capulet moves',\n",
              " '            me!',\n",
              " '',\n",
              " 'He and the pimply-faced front-seat passenger, SAMPSON,',\n",
              " 'explode with laughter.',\n",
              " '',\n",
              " 'The red-haired driver BENVOLIO, keeps his eyes on the road.',\n",
              " '',\n",
              " 'EXT.  EXIT RAMP.  AFTERNOON.',\n",
              " '',\n",
              " 'The truck spirals down an exit ramp and screeches into busy',\n",
              " 'driveway of a large gas station.',\n",
              " '',\n",
              " 'EXT.  GAS STATION.  AFTERNOON.',\n",
              " '',\n",
              " 'Attendants immediately run to the truck.  Two clean',\n",
              " 'windshields and duco, the third fills the gas tank.',\n",
              " '',\n",
              " 'INT.  TRUCK.  AFTERNOON.',\n",
              " '',\n",
              " 'Gregory in the back seat is boasting outrageously.',\n",
              " '',\n",
              " '                         GREGORY',\n",
              " '            A dog of that house shall move me',\n",
              " '            to stand.  I will take the wall of',\n",
              " '            any man or maid of Capulets.',\n",
              " '',\n",
              " 'Sampson, sarcastically.',\n",
              " '',\n",
              " '                         SAMPSON',\n",
              " '            That shows thee a weak slave.  For',\n",
              " '            the weakest goes to the wall.',\n",
              " '',\n",
              " '                         GREGORY',\n",
              " \"            'Tis true; and therefore women,\",\n",
              " '            being the weaker vessels, are ever',\n",
              " '            thrust to the wall.  Therefore, I']"
            ]
          },
          "metadata": {},
          "execution_count": 12
        }
      ]
    },
    {
      "cell_type": "code",
      "source": [
        "def lower_clean_str(x):\n",
        "  punc='!\"#$%&\\'()*+,./:;<=>?@[\\\\]^_`{|}~-'\n",
        "  lowercased_str = x.lower()\n",
        "  for ch in punc:\n",
        "    lowercased_str = lowercased_str.replace(ch, '')\n",
        "  return lowercased_str"
      ],
      "metadata": {
        "id": "8D4ZmbjgCglp"
      },
      "execution_count": 14,
      "outputs": []
    },
    {
      "cell_type": "code",
      "source": [
        "shakespeare_rdd = shakespeare_rdd.map(lower_clean_str)"
      ],
      "metadata": {
        "id": "lLPRIbniCifI"
      },
      "execution_count": 15,
      "outputs": []
    },
    {
      "cell_type": "code",
      "source": [
        "shakespeare_rdd.take(40)"
      ],
      "metadata": {
        "colab": {
          "base_uri": "https://localhost:8080/"
        },
        "id": "0JhCwT_SCkbR",
        "outputId": "acbac28c-05d5-481d-e81c-80d48399af5b"
      },
      "execution_count": 16,
      "outputs": [
        {
          "output_type": "execute_result",
          "data": {
            "text/plain": [
              "['',\n",
              " '                    william shakespeares',\n",
              " '',\n",
              " '                       romeo  juliet',\n",
              " '',\n",
              " '   adapted for the screen by craig pearce and baz luhrmann',\n",
              " '',\n",
              " '',\n",
              " '',\n",
              " '',\n",
              " '',\n",
              " '',\n",
              " '',\n",
              " '',\n",
              " '',\n",
              " '',\n",
              " '',\n",
              " '',\n",
              " '',\n",
              " '',\n",
              " '',\n",
              " '',\n",
              " '',\n",
              " '',\n",
              " '',\n",
              " '',\n",
              " '',\n",
              " '',\n",
              " '',\n",
              " '',\n",
              " '',\n",
              " '',\n",
              " '                                       final shooting script',\n",
              " '',\n",
              " '                                             october 6 1995',\n",
              " '',\n",
              " '',\n",
              " '',\n",
              " '',\n",
              " 'ext  highway  afternoon']"
            ]
          },
          "metadata": {},
          "execution_count": 16
        }
      ]
    },
    {
      "cell_type": "code",
      "source": [
        "shakespeare_rdd=shakespeare_rdd.flatMap(lambda satir: satir.split(\" \"))"
      ],
      "metadata": {
        "id": "UwgV24bZCoYB"
      },
      "execution_count": 17,
      "outputs": []
    },
    {
      "cell_type": "code",
      "source": [
        "shakespeare_rdd.take(5)"
      ],
      "metadata": {
        "colab": {
          "base_uri": "https://localhost:8080/"
        },
        "id": "b38PJYnZCqmp",
        "outputId": "9a097842-7d74-40e1-cc23-15d5ea247cb0"
      },
      "execution_count": 18,
      "outputs": [
        {
          "output_type": "execute_result",
          "data": {
            "text/plain": [
              "['', '', '', '', '']"
            ]
          },
          "metadata": {},
          "execution_count": 18
        }
      ]
    },
    {
      "cell_type": "code",
      "source": [
        "shakespeare_rdd = shakespeare_rdd.filter(lambda x:x!='')"
      ],
      "metadata": {
        "id": "RthbFFOWC_lS"
      },
      "execution_count": 19,
      "outputs": []
    },
    {
      "cell_type": "code",
      "source": [
        "shakespeare_rdd.take(4)"
      ],
      "metadata": {
        "colab": {
          "base_uri": "https://localhost:8080/"
        },
        "id": "cyqWCsRTDA0R",
        "outputId": "cba5267e-b9e1-42dc-bebf-bd735d989618"
      },
      "execution_count": 20,
      "outputs": [
        {
          "output_type": "execute_result",
          "data": {
            "text/plain": [
              "['william', 'shakespeares', 'romeo', 'juliet']"
            ]
          },
          "metadata": {},
          "execution_count": 20
        }
      ]
    },
    {
      "cell_type": "code",
      "source": [
        "shakespeare_count=shakespeare_rdd.map(lambda  word:(word,1))"
      ],
      "metadata": {
        "id": "D-rLVqshDHHK"
      },
      "execution_count": 21,
      "outputs": []
    },
    {
      "cell_type": "code",
      "source": [
        "shakespeare_count.take(4)"
      ],
      "metadata": {
        "colab": {
          "base_uri": "https://localhost:8080/"
        },
        "id": "dR-dAjfNDJn5",
        "outputId": "d2e407b5-e078-4315-887e-14f79b4b8c3f"
      },
      "execution_count": 22,
      "outputs": [
        {
          "output_type": "execute_result",
          "data": {
            "text/plain": [
              "[('william', 1), ('shakespeares', 1), ('romeo', 1), ('juliet', 1)]"
            ]
          },
          "metadata": {},
          "execution_count": 22
        }
      ]
    },
    {
      "cell_type": "code",
      "source": [
        "shakespeare_count_RBK=shakespeare_count.reduceByKey(lambda x,y:(x+y)).sortByKey()"
      ],
      "metadata": {
        "id": "KkURfvUaDOHr"
      },
      "execution_count": 23,
      "outputs": []
    },
    {
      "cell_type": "code",
      "source": [
        "shakespeare_count_RBK.take(40)"
      ],
      "metadata": {
        "colab": {
          "base_uri": "https://localhost:8080/"
        },
        "id": "EP-21tj-DRib",
        "outputId": "a69ab329-5a3e-4c82-89fe-acf53aa23fb2"
      },
      "execution_count": 24,
      "outputs": [
        {
          "output_type": "execute_result",
          "data": {
            "text/plain": [
              "[('1995', 1),\n",
              " ('21', 1),\n",
              " ('6', 1),\n",
              " ('60', 2),\n",
              " ('9mm', 2),\n",
              " ('a', 563),\n",
              " ('abandoned', 1),\n",
              " ('able', 1),\n",
              " ('about', 3),\n",
              " ('above', 12),\n",
              " ('abra', 24),\n",
              " ('abras', 3),\n",
              " ('abroad', 1),\n",
              " ('abrupt', 1),\n",
              " ('abruptly', 5),\n",
              " ('absolved', 1),\n",
              " ('abuse', 2),\n",
              " ('abuses', 1),\n",
              " ('accidentally', 1),\n",
              " ('accompanied', 1),\n",
              " ('according', 1),\n",
              " ('accusation', 1),\n",
              " ('accustomed', 2),\n",
              " ('ache', 1),\n",
              " ('aches', 1),\n",
              " ('achingly', 2),\n",
              " ('acoustic', 1),\n",
              " ('across', 24),\n",
              " ('actually', 1),\n",
              " ('adagio', 1),\n",
              " ('adapted', 1),\n",
              " ('address', 1),\n",
              " ('addressed', 1),\n",
              " ('addresses', 1),\n",
              " ('adept', 1),\n",
              " ('adieu', 4),\n",
              " ('adjacent', 1),\n",
              " ('adjoining', 1),\n",
              " ('adjust', 1),\n",
              " ('admired', 1)]"
            ]
          },
          "metadata": {},
          "execution_count": 24
        }
      ]
    },
    {
      "cell_type": "code",
      "source": [
        "shakespeare_count_RBK=shakespeare_count_RBK.map(lambda x:(x[1],x[0]))"
      ],
      "metadata": {
        "id": "jQOdDQRMDWXd"
      },
      "execution_count": 25,
      "outputs": []
    },
    {
      "cell_type": "code",
      "source": [
        "shakespeare_count_RBK.take(5)"
      ],
      "metadata": {
        "colab": {
          "base_uri": "https://localhost:8080/"
        },
        "id": "JFhPm8J6DX8w",
        "outputId": "009e45c8-b282-42c0-85ec-dba543bd6ac5"
      },
      "execution_count": 26,
      "outputs": [
        {
          "output_type": "execute_result",
          "data": {
            "text/plain": [
              "[(1, '1995'), (1, '21'), (1, '6'), (2, '60'), (2, '9mm')]"
            ]
          },
          "metadata": {},
          "execution_count": 26
        }
      ]
    },
    {
      "cell_type": "code",
      "source": [
        "shakespeare_count_RBK.sortByKey(False).take(10)"
      ],
      "metadata": {
        "colab": {
          "base_uri": "https://localhost:8080/"
        },
        "id": "n3xypV-mDcJc",
        "outputId": "573a5e2a-6ead-409c-b12e-e28027160a28"
      },
      "execution_count": 27,
      "outputs": [
        {
          "output_type": "execute_result",
          "data": {
            "text/plain": [
              "[(1372, 'the'),\n",
              " (563, 'a'),\n",
              " (506, 'to'),\n",
              " (469, 'of'),\n",
              " (464, 'romeo'),\n",
              " (461, 'and'),\n",
              " (258, 'in'),\n",
              " (251, 'juliet'),\n",
              " (246, 'is'),\n",
              " (224, 'i')]"
            ]
          },
          "metadata": {},
          "execution_count": 27
        }
      ]
    },
    {
      "cell_type": "code",
      "source": [
        "import nltk"
      ],
      "metadata": {
        "id": "lWPEUayTDl0c"
      },
      "execution_count": 28,
      "outputs": []
    },
    {
      "cell_type": "code",
      "source": [
        "nltk.download('stopwords')"
      ],
      "metadata": {
        "colab": {
          "base_uri": "https://localhost:8080/"
        },
        "id": "xqWbSQe4Dnxz",
        "outputId": "4ae52787-0e40-48e4-be14-2289fa781ea0"
      },
      "execution_count": 29,
      "outputs": [
        {
          "output_type": "stream",
          "name": "stderr",
          "text": [
            "[nltk_data] Downloading package stopwords to /root/nltk_data...\n",
            "[nltk_data]   Unzipping corpora/stopwords.zip.\n"
          ]
        },
        {
          "output_type": "execute_result",
          "data": {
            "text/plain": [
              "True"
            ]
          },
          "metadata": {},
          "execution_count": 29
        }
      ]
    },
    {
      "cell_type": "code",
      "source": [
        "from nltk.corpus import stopwords\n",
        "stopwords =stopwords.words('english')\n",
        "stopwords"
      ],
      "metadata": {
        "colab": {
          "base_uri": "https://localhost:8080/"
        },
        "id": "KsqQOj35DqOq",
        "outputId": "d33a7589-7b0b-4ef8-eb77-5737ddda64ca"
      },
      "execution_count": 30,
      "outputs": [
        {
          "output_type": "execute_result",
          "data": {
            "text/plain": [
              "['i',\n",
              " 'me',\n",
              " 'my',\n",
              " 'myself',\n",
              " 'we',\n",
              " 'our',\n",
              " 'ours',\n",
              " 'ourselves',\n",
              " 'you',\n",
              " \"you're\",\n",
              " \"you've\",\n",
              " \"you'll\",\n",
              " \"you'd\",\n",
              " 'your',\n",
              " 'yours',\n",
              " 'yourself',\n",
              " 'yourselves',\n",
              " 'he',\n",
              " 'him',\n",
              " 'his',\n",
              " 'himself',\n",
              " 'she',\n",
              " \"she's\",\n",
              " 'her',\n",
              " 'hers',\n",
              " 'herself',\n",
              " 'it',\n",
              " \"it's\",\n",
              " 'its',\n",
              " 'itself',\n",
              " 'they',\n",
              " 'them',\n",
              " 'their',\n",
              " 'theirs',\n",
              " 'themselves',\n",
              " 'what',\n",
              " 'which',\n",
              " 'who',\n",
              " 'whom',\n",
              " 'this',\n",
              " 'that',\n",
              " \"that'll\",\n",
              " 'these',\n",
              " 'those',\n",
              " 'am',\n",
              " 'is',\n",
              " 'are',\n",
              " 'was',\n",
              " 'were',\n",
              " 'be',\n",
              " 'been',\n",
              " 'being',\n",
              " 'have',\n",
              " 'has',\n",
              " 'had',\n",
              " 'having',\n",
              " 'do',\n",
              " 'does',\n",
              " 'did',\n",
              " 'doing',\n",
              " 'a',\n",
              " 'an',\n",
              " 'the',\n",
              " 'and',\n",
              " 'but',\n",
              " 'if',\n",
              " 'or',\n",
              " 'because',\n",
              " 'as',\n",
              " 'until',\n",
              " 'while',\n",
              " 'of',\n",
              " 'at',\n",
              " 'by',\n",
              " 'for',\n",
              " 'with',\n",
              " 'about',\n",
              " 'against',\n",
              " 'between',\n",
              " 'into',\n",
              " 'through',\n",
              " 'during',\n",
              " 'before',\n",
              " 'after',\n",
              " 'above',\n",
              " 'below',\n",
              " 'to',\n",
              " 'from',\n",
              " 'up',\n",
              " 'down',\n",
              " 'in',\n",
              " 'out',\n",
              " 'on',\n",
              " 'off',\n",
              " 'over',\n",
              " 'under',\n",
              " 'again',\n",
              " 'further',\n",
              " 'then',\n",
              " 'once',\n",
              " 'here',\n",
              " 'there',\n",
              " 'when',\n",
              " 'where',\n",
              " 'why',\n",
              " 'how',\n",
              " 'all',\n",
              " 'any',\n",
              " 'both',\n",
              " 'each',\n",
              " 'few',\n",
              " 'more',\n",
              " 'most',\n",
              " 'other',\n",
              " 'some',\n",
              " 'such',\n",
              " 'no',\n",
              " 'nor',\n",
              " 'not',\n",
              " 'only',\n",
              " 'own',\n",
              " 'same',\n",
              " 'so',\n",
              " 'than',\n",
              " 'too',\n",
              " 'very',\n",
              " 's',\n",
              " 't',\n",
              " 'can',\n",
              " 'will',\n",
              " 'just',\n",
              " 'don',\n",
              " \"don't\",\n",
              " 'should',\n",
              " \"should've\",\n",
              " 'now',\n",
              " 'd',\n",
              " 'll',\n",
              " 'm',\n",
              " 'o',\n",
              " 're',\n",
              " 've',\n",
              " 'y',\n",
              " 'ain',\n",
              " 'aren',\n",
              " \"aren't\",\n",
              " 'couldn',\n",
              " \"couldn't\",\n",
              " 'didn',\n",
              " \"didn't\",\n",
              " 'doesn',\n",
              " \"doesn't\",\n",
              " 'hadn',\n",
              " \"hadn't\",\n",
              " 'hasn',\n",
              " \"hasn't\",\n",
              " 'haven',\n",
              " \"haven't\",\n",
              " 'isn',\n",
              " \"isn't\",\n",
              " 'ma',\n",
              " 'mightn',\n",
              " \"mightn't\",\n",
              " 'mustn',\n",
              " \"mustn't\",\n",
              " 'needn',\n",
              " \"needn't\",\n",
              " 'shan',\n",
              " \"shan't\",\n",
              " 'shouldn',\n",
              " \"shouldn't\",\n",
              " 'wasn',\n",
              " \"wasn't\",\n",
              " 'weren',\n",
              " \"weren't\",\n",
              " 'won',\n",
              " \"won't\",\n",
              " 'wouldn',\n",
              " \"wouldn't\"]"
            ]
          },
          "metadata": {},
          "execution_count": 30
        }
      ]
    },
    {
      "cell_type": "code",
      "source": [
        "shakespeare_count_RBK = shakespeare_count_RBK.filter(lambda x: x[1] not in stopwords).sortByKey(False)"
      ],
      "metadata": {
        "id": "pnOxNx9uDus6"
      },
      "execution_count": 31,
      "outputs": []
    },
    {
      "cell_type": "code",
      "source": [
        "shakespeare_count_RBK.sortByKey(False).take(20)"
      ],
      "metadata": {
        "colab": {
          "base_uri": "https://localhost:8080/"
        },
        "id": "dOfzUv1bD1LN",
        "outputId": "1bcd4815-c572-43ab-b3ef-0d2e62a69b20"
      },
      "execution_count": 32,
      "outputs": [
        {
          "output_type": "execute_result",
          "data": {
            "text/plain": [
              "[(464, 'romeo'),\n",
              " (251, 'juliet'),\n",
              " (143, 'mercutio'),\n",
              " (133, 'capulet'),\n",
              " (114, 'thou'),\n",
              " (111, 'benvolio'),\n",
              " (111, 'night'),\n",
              " (98, 'father'),\n",
              " (97, 'ext'),\n",
              " (96, 'close'),\n",
              " (96, 'nurse'),\n",
              " (92, 'cont'),\n",
              " (88, 'int'),\n",
              " (87, 'cut'),\n",
              " (84, 'car'),\n",
              " (82, 'love'),\n",
              " (81, 'laurence'),\n",
              " (79, 'tybalt'),\n",
              " (71, 'gloria'),\n",
              " (66, 'day')]"
            ]
          },
          "metadata": {},
          "execution_count": 32
        }
      ]
    }
  ]
}